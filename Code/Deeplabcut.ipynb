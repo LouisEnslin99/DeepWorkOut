{
 "cells": [
  {
   "cell_type": "markdown",
   "id": "increased-microphone",
   "metadata": {},
   "source": [
    "# DeepWorkOut\n",
    "\n"
   ]
  },
  {
   "cell_type": "markdown",
   "id": "complimentary-relief",
   "metadata": {},
   "source": [
    "Extracting the poses of humans without using markers is often essential for measuring behavioral effects in biomechanics. Yet, extracting detailed poses without markers in dynamically changing backgrounds has been challenging. The open source toolbox called DeepLabCut, that builds on a state-of-the-art human pose estimation algorithm, allows a user to train a deep neural network using limited training data to precisely track user-defined features that matches human labeling accuracy. In the following we will train a model that enables us to track, improve and classify the execution of a bodyweight exercise. \n",
    "The whole project 'DeepWorkOut' will be realised in 4 steps: \n",
    "\n",
    "__1. Point detection with DeepLabCut__\n",
    "\n",
    "__2. Post-processing and Data Preparation__\n",
    "\n",
    "__3. Classification of the exercise__\n",
    "\n",
    "__4. Error detection and correction__\n",
    "\n",
    "Fact sheet: \n",
    "- video lenght: 4s\n",
    "- Exercises: Plank, Plankvariation, Lunge, Squat, Crunch\n",
    "- Error detection: Plank \n",
    "- Classification: 5 exercises"
   ]
  },
  {
   "cell_type": "markdown",
   "id": "consecutive-budget",
   "metadata": {},
   "source": [
    "# 1. Point detection with DeepLabCut"
   ]
  },
  {
   "cell_type": "code",
   "execution_count": 9,
   "id": "greek-tsunami",
   "metadata": {},
   "outputs": [],
   "source": [
    "# Author: Carl & Louis Enslin"
   ]
  },
  {
   "cell_type": "code",
   "execution_count": 6,
   "id": "conscious-trade",
   "metadata": {},
   "outputs": [],
   "source": [
    "import deeplabcut as dlc\n"
   ]
  },
  {
   "cell_type": "markdown",
   "id": "arbitrary-planning",
   "metadata": {},
   "source": [
    "## Create a new project"
   ]
  },
  {
   "cell_type": "code",
   "execution_count": 4,
   "id": "thick-blocking",
   "metadata": {
    "scrolled": true
   },
   "outputs": [],
   "source": [
    "\n",
    "project_name = 'DeepWorkOut'\n",
    "developer = 'Carl & Louis Enslin'\n",
    "video_path = ['C:\\\\Users\\\\ujtjf\\\\Desktop\\\\LAMA_Projekt\\\\Videos']\n",
    "working_directory = 'C:\\\\Users\\\\ujtjf\\\\Desktop\\\\LAMA_Projekt\\\\Deeplabcut_projekt'\n",
    "\n",
    "#create a variable that holds the path the path to the config.yaml file\n",
    "config_path = dlc.create_new_project(project_name, developer, video_path, videotype='.avi', working_directory=working_directory, copy_videos=True)\n"
   ]
  },
  {
   "cell_type": "markdown",
   "id": "separated-baseline",
   "metadata": {},
   "source": [
    "## Change the parameters in config.yaml"
   ]
  },
  {
   "cell_type": "markdown",
   "id": "palestinian-injury",
   "metadata": {},
   "source": [
    "The Config.yaml file is the central node of DeepLabCut. This is where the body parts and many important network parameters are stored and adjusted. \n",
    "After an interative process we decided to track these bodyparts in the recordings: __ankleft, kneeleft, hipleft, shoulderleft, elbowleft, wristleft, forehead, chin, ankleright, kneeright, hipright, shoulderright, elbowright, wristright, upperback, middleback, lowerback, toesright, toesleft__\n",
    "\n",
    "Other Parameters:\n",
    "- p-cutoff: 0.8 (treshhold of the likelihood to differ a certain from an uncertain point)\n",
    "- Number of frames per video: 20\n",
    "- Training fraction: 0.95\n",
    "- General net type: Resnet\n",
    "\n",
    "\n",
    "\n",
    "\n",
    "\n",
    "\n",
    "\n"
   ]
  },
  {
   "cell_type": "markdown",
   "id": "breathing-fabric",
   "metadata": {},
   "source": [
    "## Extract frames and video selection\n",
    "\n",
    "Critical points and our ideas:\n",
    "- training should capture the full breadth of the behaviour, however it should be realisible for us\n",
    "\n",
    "-> Different clothes (log, short, dark, bright), 2 humans (at first we both), monochrome background (at first), diversity in respect to postures, 1 camera angle \n",
    "\n",
    "- large frames increases the training time\n",
    "\n",
    "-> Rreduce video resolution to 480p (results are good enough and training time is not that large)\n"
   ]
  },
  {
   "cell_type": "code",
   "execution_count": 7,
   "id": "attractive-boutique",
   "metadata": {},
   "outputs": [
    {
     "name": "stdout",
     "output_type": "stream",
     "text": [
      "Config file read successfully.\n",
      "Do you want to extract (perhaps additional) frames for video: C:\\Users\\ujtjf\\Desktop\\LAMA_Projekt\\Deeplabcut_projekt\\DeepWorkOut-Carl & Louis Enslin-2021-01-31\\videos\\Ausfallschritt_1.avi ?\n",
      "yes/noyes\n",
      "The directory already contains some frames. Do you want to add to it?(yes/no): yes\n",
      "Extracting frames based on uniform ...\n",
      "Uniformly extracting of frames from 0.0  seconds to 4.7  seconds.\n",
      "Do you want to extract (perhaps additional) frames for video: C:\\Users\\ujtjf\\Desktop\\LAMA_Projekt\\Deeplabcut_projekt\\DeepWorkOut-Carl & Louis Enslin-2021-01-31\\videos\\Ausfallschritt_2.avi ?\n",
      "yes/nono\n",
      "Do you want to extract (perhaps additional) frames for video: C:\\Users\\ujtjf\\Desktop\\LAMA_Projekt\\Deeplabcut_projekt\\DeepWorkOut-Carl & Louis Enslin-2021-01-31\\videos\\Ausfallschritt_3.avi ?\n",
      "yes/nono\n",
      "Do you want to extract (perhaps additional) frames for video: C:\\Users\\ujtjf\\Desktop\\LAMA_Projekt\\Deeplabcut_projekt\\DeepWorkOut-Carl & Louis Enslin-2021-01-31\\videos\\Ausfallschritt_4.avi ?\n",
      "yes/nono\n",
      "Do you want to extract (perhaps additional) frames for video: C:\\Users\\ujtjf\\Desktop\\LAMA_Projekt\\Deeplabcut_projekt\\DeepWorkOut-Carl & Louis Enslin-2021-01-31\\videos\\Crunch_1.avi ?\n",
      "yes/nono\n",
      "Do you want to extract (perhaps additional) frames for video: C:\\Users\\ujtjf\\Desktop\\LAMA_Projekt\\Deeplabcut_projekt\\DeepWorkOut-Carl & Louis Enslin-2021-01-31\\videos\\Crunch_2.avi ?\n",
      "yes/nono\n",
      "Do you want to extract (perhaps additional) frames for video: C:\\Users\\ujtjf\\Desktop\\LAMA_Projekt\\Deeplabcut_projekt\\DeepWorkOut-Carl & Louis Enslin-2021-01-31\\videos\\Crunch_3.avi ?\n",
      "yes/nono\n",
      "Do you want to extract (perhaps additional) frames for video: C:\\Users\\ujtjf\\Desktop\\LAMA_Projekt\\Deeplabcut_projekt\\DeepWorkOut-Carl & Louis Enslin-2021-01-31\\videos\\Crunch_4.avi ?\n",
      "yes/nono\n",
      "Do you want to extract (perhaps additional) frames for video: C:\\Users\\ujtjf\\Desktop\\LAMA_Projekt\\Deeplabcut_projekt\\DeepWorkOut-Carl & Louis Enslin-2021-01-31\\videos\\Kniebeuge_1.avi ?\n",
      "yes/nono\n",
      "Do you want to extract (perhaps additional) frames for video: C:\\Users\\ujtjf\\Desktop\\LAMA_Projekt\\Deeplabcut_projekt\\DeepWorkOut-Carl & Louis Enslin-2021-01-31\\videos\\Kniebeuge_2.avi ?\n",
      "yes/nono\n",
      "Do you want to extract (perhaps additional) frames for video: C:\\Users\\ujtjf\\Desktop\\LAMA_Projekt\\Deeplabcut_projekt\\DeepWorkOut-Carl & Louis Enslin-2021-01-31\\videos\\Kniebeuge_3.avi ?\n",
      "yes/nono\n",
      "Do you want to extract (perhaps additional) frames for video: C:\\Users\\ujtjf\\Desktop\\LAMA_Projekt\\Deeplabcut_projekt\\DeepWorkOut-Carl & Louis Enslin-2021-01-31\\videos\\Kniebeuge_4.avi ?\n",
      "yes/nono\n",
      "Do you want to extract (perhaps additional) frames for video: C:\\Users\\ujtjf\\Desktop\\LAMA_Projekt\\Deeplabcut_projekt\\DeepWorkOut-Carl & Louis Enslin-2021-01-31\\videos\\PlankVar_1.avi ?\n",
      "yes/nono\n",
      "Do you want to extract (perhaps additional) frames for video: C:\\Users\\ujtjf\\Desktop\\LAMA_Projekt\\Deeplabcut_projekt\\DeepWorkOut-Carl & Louis Enslin-2021-01-31\\videos\\PlankVar_2.avi ?\n",
      "yes/nono\n",
      "Do you want to extract (perhaps additional) frames for video: C:\\Users\\ujtjf\\Desktop\\LAMA_Projekt\\Deeplabcut_projekt\\DeepWorkOut-Carl & Louis Enslin-2021-01-31\\videos\\PlankVar_3.avi ?\n",
      "yes/nono\n",
      "Do you want to extract (perhaps additional) frames for video: C:\\Users\\ujtjf\\Desktop\\LAMA_Projekt\\Deeplabcut_projekt\\DeepWorkOut-Carl & Louis Enslin-2021-01-31\\videos\\PlankVar_4.avi ?\n",
      "yes/nono\n",
      "Do you want to extract (perhaps additional) frames for video: C:\\Users\\ujtjf\\Desktop\\LAMA_Projekt\\Deeplabcut_projekt\\DeepWorkOut-Carl & Louis Enslin-2021-01-31\\videos\\Plank_1.avi ?\n",
      "yes/nono\n",
      "Do you want to extract (perhaps additional) frames for video: C:\\Users\\ujtjf\\Desktop\\LAMA_Projekt\\Deeplabcut_projekt\\DeepWorkOut-Carl & Louis Enslin-2021-01-31\\videos\\Plank_2.avi ?\n",
      "yes/nono\n",
      "Do you want to extract (perhaps additional) frames for video: C:\\Users\\ujtjf\\Desktop\\LAMA_Projekt\\Deeplabcut_projekt\\DeepWorkOut-Carl & Louis Enslin-2021-01-31\\videos\\Plank_3.avi ?\n",
      "yes/nono\n",
      "Do you want to extract (perhaps additional) frames for video: C:\\Users\\ujtjf\\Desktop\\LAMA_Projekt\\Deeplabcut_projekt\\DeepWorkOut-Carl & Louis Enslin-2021-01-31\\videos\\Plank_4.avi ?\n",
      "yes/nono\n",
      "Do you want to extract (perhaps additional) frames for video: C:\\Users\\ujtjf\\Desktop\\LAMA_Projekt\\Testvideos\\Ausfallschritt_1.avi ?\n",
      "yes/nono\n",
      "Do you want to extract (perhaps additional) frames for video: C:\\Users\\ujtjf\\Desktop\\LAMA_Projekt\\Testvideos\\Ausfallschritt_2.avi ?\n",
      "yes/nono\n",
      "Do you want to extract (perhaps additional) frames for video: C:\\Users\\ujtjf\\Desktop\\LAMA_Projekt\\Testvideos\\Ausfallschritt_4.avi ?\n",
      "yes/nono\n",
      "Do you want to extract (perhaps additional) frames for video: C:\\Users\\ujtjf\\Desktop\\LAMA_Projekt\\Testvideos\\Ausfallschritt_3.avi ?\n",
      "yes/nono\n",
      "Do you want to extract (perhaps additional) frames for video: C:\\Users\\ujtjf\\Desktop\\LAMA_Projekt\\Videos\\PlankVar_4.avi ?\n",
      "yes/nono\n",
      "Do you want to extract (perhaps additional) frames for video: C:\\Users\\ujtjf\\Desktop\\LAMA_Projekt\\Videos\\Kniebeuge_4.avi ?\n",
      "yes/nono\n",
      "Do you want to extract (perhaps additional) frames for video: C:\\Users\\ujtjf\\Desktop\\LAMA_Projekt\\Videos\\PlankVar_1.avi ?\n",
      "yes/nono\n",
      "Do you want to extract (perhaps additional) frames for video: C:\\Users\\ujtjf\\Desktop\\LAMA_Projekt\\Videos\\Crunch_4.avi ?\n",
      "yes/nono\n",
      "Do you want to extract (perhaps additional) frames for video: C:\\Users\\ujtjf\\Desktop\\LAMA_Projekt\\Videos\\Plank_4.avi ?\n",
      "yes/nono\n",
      "Do you want to extract (perhaps additional) frames for video: C:\\Users\\ujtjf\\Desktop\\LAMA_Projekt\\Videos\\Kniebeuge_1.avi ?\n",
      "yes/nono\n",
      "Do you want to extract (perhaps additional) frames for video: C:\\Users\\ujtjf\\Desktop\\LAMA_Projekt\\Videos\\Kniebeuge_3.avi ?\n",
      "yes/nono\n",
      "Do you want to extract (perhaps additional) frames for video: C:\\Users\\ujtjf\\Desktop\\LAMA_Projekt\\Videos\\Plank_1.avi ?\n",
      "yes/nono\n",
      "Do you want to extract (perhaps additional) frames for video: C:\\Users\\ujtjf\\Desktop\\LAMA_Projekt\\Videos\\Crunch_3.avi ?\n",
      "yes/nono\n",
      "Do you want to extract (perhaps additional) frames for video: C:\\Users\\ujtjf\\Desktop\\LAMA_Projekt\\Videos\\Ausfallschritt_4.avi ?\n"
     ]
    },
    {
     "ename": "KeyboardInterrupt",
     "evalue": "Interrupted by user",
     "output_type": "error",
     "traceback": [
      "\u001b[1;31m---------------------------------------------------------------------------\u001b[0m",
      "\u001b[1;31mKeyboardInterrupt\u001b[0m                         Traceback (most recent call last)",
      "\u001b[1;32m<ipython-input-7-a50f53e2ca2d>\u001b[0m in \u001b[0;36m<module>\u001b[1;34m\u001b[0m\n\u001b[0;32m      2\u001b[0m \u001b[1;31m# Select the frames automatically and regularly but random from each video\u001b[0m\u001b[1;33m\u001b[0m\u001b[1;33m\u001b[0m\u001b[1;33m\u001b[0m\u001b[0m\n\u001b[0;32m      3\u001b[0m \u001b[1;33m\u001b[0m\u001b[0m\n\u001b[1;32m----> 4\u001b[1;33m \u001b[0mdlc\u001b[0m\u001b[1;33m.\u001b[0m\u001b[0mextract_frames\u001b[0m\u001b[1;33m(\u001b[0m\u001b[0mconfig_path\u001b[0m\u001b[1;33m,\u001b[0m \u001b[0mmode\u001b[0m\u001b[1;33m=\u001b[0m\u001b[1;34m'automatic'\u001b[0m\u001b[1;33m,\u001b[0m \u001b[0malgo\u001b[0m\u001b[1;33m=\u001b[0m\u001b[1;34m'uniform'\u001b[0m\u001b[1;33m,\u001b[0m \u001b[0muserfeedback\u001b[0m\u001b[1;33m=\u001b[0m\u001b[1;32mTrue\u001b[0m\u001b[1;33m)\u001b[0m\u001b[1;33m\u001b[0m\u001b[1;33m\u001b[0m\u001b[0m\n\u001b[0m",
      "\u001b[1;32m~\\Anaconda3\\envs\\Clone DLC\\lib\\site-packages\\deeplabcut\\generate_training_dataset\\frame_extraction.py\u001b[0m in \u001b[0;36mextract_frames\u001b[1;34m(config, mode, algo, crop, userfeedback, cluster_step, cluster_resizewidth, cluster_color, opencv, slider_width)\u001b[0m\n\u001b[0;32m    196\u001b[0m                     \u001b[1;34m\"?\"\u001b[0m\u001b[1;33m,\u001b[0m\u001b[1;33m\u001b[0m\u001b[1;33m\u001b[0m\u001b[0m\n\u001b[0;32m    197\u001b[0m                 )\n\u001b[1;32m--> 198\u001b[1;33m                 \u001b[0maskuser\u001b[0m \u001b[1;33m=\u001b[0m \u001b[0minput\u001b[0m\u001b[1;33m(\u001b[0m\u001b[1;34m\"yes/no\"\u001b[0m\u001b[1;33m)\u001b[0m\u001b[1;33m\u001b[0m\u001b[1;33m\u001b[0m\u001b[0m\n\u001b[0m\u001b[0;32m    199\u001b[0m             \u001b[1;32melse\u001b[0m\u001b[1;33m:\u001b[0m\u001b[1;33m\u001b[0m\u001b[1;33m\u001b[0m\u001b[0m\n\u001b[0;32m    200\u001b[0m                 \u001b[0maskuser\u001b[0m \u001b[1;33m=\u001b[0m \u001b[1;34m\"yes\"\u001b[0m\u001b[1;33m\u001b[0m\u001b[1;33m\u001b[0m\u001b[0m\n",
      "\u001b[1;32m~\\Anaconda3\\envs\\Clone DLC\\lib\\site-packages\\ipykernel\\kernelbase.py\u001b[0m in \u001b[0;36mraw_input\u001b[1;34m(self, prompt)\u001b[0m\n\u001b[0;32m    861\u001b[0m             \u001b[0mself\u001b[0m\u001b[1;33m.\u001b[0m\u001b[0m_parent_ident\u001b[0m\u001b[1;33m,\u001b[0m\u001b[1;33m\u001b[0m\u001b[1;33m\u001b[0m\u001b[0m\n\u001b[0;32m    862\u001b[0m             \u001b[0mself\u001b[0m\u001b[1;33m.\u001b[0m\u001b[0m_parent_header\u001b[0m\u001b[1;33m,\u001b[0m\u001b[1;33m\u001b[0m\u001b[1;33m\u001b[0m\u001b[0m\n\u001b[1;32m--> 863\u001b[1;33m             \u001b[0mpassword\u001b[0m\u001b[1;33m=\u001b[0m\u001b[1;32mFalse\u001b[0m\u001b[1;33m,\u001b[0m\u001b[1;33m\u001b[0m\u001b[1;33m\u001b[0m\u001b[0m\n\u001b[0m\u001b[0;32m    864\u001b[0m         )\n\u001b[0;32m    865\u001b[0m \u001b[1;33m\u001b[0m\u001b[0m\n",
      "\u001b[1;32m~\\Anaconda3\\envs\\Clone DLC\\lib\\site-packages\\ipykernel\\kernelbase.py\u001b[0m in \u001b[0;36m_input_request\u001b[1;34m(self, prompt, ident, parent, password)\u001b[0m\n\u001b[0;32m    902\u001b[0m             \u001b[1;32mexcept\u001b[0m \u001b[0mKeyboardInterrupt\u001b[0m\u001b[1;33m:\u001b[0m\u001b[1;33m\u001b[0m\u001b[1;33m\u001b[0m\u001b[0m\n\u001b[0;32m    903\u001b[0m                 \u001b[1;31m# re-raise KeyboardInterrupt, to truncate traceback\u001b[0m\u001b[1;33m\u001b[0m\u001b[1;33m\u001b[0m\u001b[1;33m\u001b[0m\u001b[0m\n\u001b[1;32m--> 904\u001b[1;33m                 \u001b[1;32mraise\u001b[0m \u001b[0mKeyboardInterrupt\u001b[0m\u001b[1;33m(\u001b[0m\u001b[1;34m\"Interrupted by user\"\u001b[0m\u001b[1;33m)\u001b[0m \u001b[1;32mfrom\u001b[0m \u001b[1;32mNone\u001b[0m\u001b[1;33m\u001b[0m\u001b[1;33m\u001b[0m\u001b[0m\n\u001b[0m\u001b[0;32m    905\u001b[0m             \u001b[1;32mexcept\u001b[0m \u001b[0mException\u001b[0m \u001b[1;32mas\u001b[0m \u001b[0me\u001b[0m\u001b[1;33m:\u001b[0m\u001b[1;33m\u001b[0m\u001b[1;33m\u001b[0m\u001b[0m\n\u001b[0;32m    906\u001b[0m                 \u001b[0mself\u001b[0m\u001b[1;33m.\u001b[0m\u001b[0mlog\u001b[0m\u001b[1;33m.\u001b[0m\u001b[0mwarning\u001b[0m\u001b[1;33m(\u001b[0m\u001b[1;34m\"Invalid Message:\"\u001b[0m\u001b[1;33m,\u001b[0m \u001b[0mexc_info\u001b[0m\u001b[1;33m=\u001b[0m\u001b[1;32mTrue\u001b[0m\u001b[1;33m)\u001b[0m\u001b[1;33m\u001b[0m\u001b[1;33m\u001b[0m\u001b[0m\n",
      "\u001b[1;31mKeyboardInterrupt\u001b[0m: Interrupted by user"
     ]
    }
   ],
   "source": [
    "# 20 frames per video (20 x 20 -> 400 frames -> 8000 bodypoints to label)\n",
    "# Select the frames automatically and regularly but random from each video\n",
    "\n",
    "dlc.extract_frames(config_path, mode='automatic', algo='uniform', userfeedback=True)"
   ]
  },
  {
   "cell_type": "markdown",
   "id": "grand-sperm",
   "metadata": {},
   "source": [
    "## Label frames"
   ]
  },
  {
   "cell_type": "code",
   "execution_count": null,
   "id": "underlying-constitutional",
   "metadata": {},
   "outputs": [],
   "source": [
    "# Label all the frames in the GUI (in total more than 8000!)\n",
    "dlc.label_frames(config_path)\n",
    "\n",
    "# Checking if the labels were created correctly -> good labeling is the base for a working network\n",
    "dlc.check_labels(config_path)"
   ]
  },
  {
   "cell_type": "code",
   "execution_count": null,
   "id": "monthly-intersection",
   "metadata": {},
   "outputs": [],
   "source": [
    "# Build a skeleton in the GUI to create one more metric\n",
    "# Important: Not only the \"real\" skeleton is created, but also that further connections are made for a good and general model.\n",
    "dlc.SkeletonBuilder(config_path)"
   ]
  },
  {
   "cell_type": "markdown",
   "id": "improving-jewel",
   "metadata": {},
   "source": [
    "## Create a training set"
   ]
  },
  {
   "cell_type": "markdown",
   "id": "naked-wallpaper",
   "metadata": {},
   "source": [
    "To benchmark the performance we created different training sets to compare different parameters. In the following we will give a brief overview:\n",
    "    \n",
    "In the pose_cfg.yaml we varied different parameters. Since there is already a pre-trained model for the recognition of points on humans, we have limited our training data to the same points and adopted the weights (from the mpii-pose-single-resnet). When this worked well, we added more points (important for us to analyse) and adjusted and improved the following parameters bit by bit: optimizer, batch size, net type, augmentation, learning rate, global scale.\n",
    "The following worked best:\n",
    "- optimizer: sgd\n",
    "- batch size: 4\n",
    "- net type: renet_101\n",
    "- augmentation: imgaug\n",
    "- learning rate: multistep (0.005, 0.02)\n",
    "- global scale: 1\n"
   ]
  },
  {
   "cell_type": "code",
   "execution_count": 25,
   "id": "pregnant-vanilla",
   "metadata": {
    "scrolled": true
   },
   "outputs": [
    {
     "name": "stdout",
     "output_type": "stream",
     "text": [
      "The training dataset is successfully created. Use the function 'train_network' to start training. Happy training!\n"
     ]
    },
    {
     "data": {
      "text/plain": [
       "[(0.95,\n",
       "  1,\n",
       "  (array([352, 435, 453, 218, 614, 466, 449, 573,  26, 310, 576, 764, 457,\n",
       "           96, 257, 636, 712,  63,  48, 280, 754, 342, 491, 510,  41, 157,\n",
       "          382, 759, 456, 425, 682, 481, 167, 627, 723, 766, 623, 391, 788,\n",
       "          665,  65, 375, 607, 263, 397, 387, 744, 725, 402, 635, 249,  99,\n",
       "          742, 749, 757, 755, 344, 685, 780, 520, 653, 597, 734, 698, 680,\n",
       "          618, 497, 480, 180,   1, 199, 398, 350, 314, 278, 389, 330, 729,\n",
       "          782, 476, 545, 414, 643, 794, 226, 547, 143, 206, 390, 441, 502,\n",
       "          388, 462, 238, 705, 147, 606, 266,  62, 639, 153, 253, 784, 212,\n",
       "           47, 196, 241, 608, 562,  13, 353, 327, 140, 108,  61,  87, 185,\n",
       "          166, 341, 767, 695, 574, 455, 380, 191, 415,  38, 182,  31, 404,\n",
       "          633, 343, 626, 664, 420, 242, 434, 498, 509, 513, 222, 198, 684,\n",
       "           67, 232, 281, 368, 644, 617, 671, 689,  78, 169, 701, 797, 500,\n",
       "          558, 800, 245, 359, 366, 485,  75, 557, 233, 556, 117,   5, 732,\n",
       "          736,   6, 470, 789, 709, 294, 287, 270, 539, 203, 254,  43, 162,\n",
       "          251, 580, 511,  22,  16,  10, 598, 624,  19, 268, 303, 518, 439,\n",
       "           92, 787,  58, 739, 679, 137, 332, 594, 423, 567, 681, 798, 360,\n",
       "          691, 637, 761, 447, 589, 590, 601,  56, 537, 230, 115, 650, 670,\n",
       "          542, 777, 406, 522,  74, 611,  18, 781, 706, 252, 378, 277,  37,\n",
       "          738, 107,  55, 571, 105, 148, 550, 581, 468, 632, 487,  68, 467,\n",
       "          703, 265,  57, 647,  12, 312, 119,   8, 551, 262, 622, 189, 210,\n",
       "           17, 459,  51, 577, 186, 593, 428, 548, 595, 358, 325,  71, 652,\n",
       "          112, 488, 675, 646, 377, 596, 586, 599, 474, 676, 170, 417,   2,\n",
       "          696, 328, 400,  94, 324,  84,  85, 432, 716, 478, 193, 114, 333,\n",
       "          371, 320, 475, 116, 134, 258, 533, 208, 184, 536, 778, 715, 172,\n",
       "          286, 728, 248, 214, 578, 641,  34, 424, 187, 361, 216, 283, 673,\n",
       "          124,  86,  73, 746, 587, 334, 106,   9, 785, 109,  76, 217, 308,\n",
       "          490, 386, 741, 657,  27, 619, 464, 454, 529, 131,  28, 369, 385,\n",
       "          354,  70, 433, 201, 702, 267, 448, 628, 282, 659, 697, 269, 612,\n",
       "          688, 656, 141,  72, 528, 412, 560, 164, 553, 451, 724, 669, 419,\n",
       "          309,  32, 803,  89, 731, 195, 615, 149, 347, 139, 804, 585, 492,\n",
       "          215, 229, 519, 307, 584, 582, 146, 240, 373, 200, 316, 505, 152,\n",
       "          192, 329, 244, 165, 372, 326, 340,  88,   4, 786, 735, 489,  30,\n",
       "          275, 383, 438, 530, 313, 631, 197,  52, 292, 144, 154, 704,  82,\n",
       "          235, 444, 337, 722, 634, 572, 296, 802, 753, 469, 311, 591, 526,\n",
       "           40, 259, 158, 300, 285, 207,  97, 272, 638, 204, 421, 135, 779,\n",
       "          129, 362, 159, 540, 613, 569,  49,  59, 792, 663, 363, 460, 379,\n",
       "          482, 260, 796, 239, 508, 211, 156, 426, 535, 161, 515, 223,  36,\n",
       "          521, 473, 507, 104, 297, 145, 384, 370, 707, 395, 335, 364, 527,\n",
       "          430, 686, 523,  42, 758, 289, 401, 790, 163, 776, 250, 209, 763,\n",
       "          471, 403, 351, 394,  98, 604, 130, 700, 504, 315, 179, 514, 771,\n",
       "          126, 177, 228, 770, 642, 678, 603, 568, 225, 393, 111, 399, 541,\n",
       "          411, 693,  54, 750, 563, 554, 247, 531, 176, 773, 602,  77, 621,\n",
       "          711, 279, 306, 100, 321,  50, 110, 484, 768, 349, 660, 407,  35,\n",
       "           20, 494, 616, 532, 674, 718, 127, 264, 549, 600,  45, 565,  66,\n",
       "          405, 274, 290, 178, 431, 666,  29, 714, 483, 610, 588, 138,  44,\n",
       "          499, 243, 446, 719, 246,   0, 103,  90, 694, 747, 555, 396, 570,\n",
       "          743, 227, 472, 151, 173, 769, 318, 727, 255, 445, 301, 625, 730,\n",
       "          745, 708, 128, 345, 452, 174, 630, 367, 772, 123, 136, 102, 221,\n",
       "          338, 261,  93, 552, 224, 493, 356, 740, 525, 374,  24,  81, 752,\n",
       "          256, 427, 713, 331, 339, 495, 231,  91, 213, 381,  64,  23, 805,\n",
       "          188, 710, 667, 645, 486, 336, 276, 512, 416, 609, 677, 516, 640,\n",
       "          436, 288, 672, 721, 524,  53, 748, 150, 155, 605, 323, 202, 629,\n",
       "           69, 737, 546, 692, 561, 437, 717, 775, 559,  46, 194, 295,   3,\n",
       "          304, 564, 503, 654, 751, 190, 317, 465, 236, 655, 620, 799, 517,\n",
       "           33, 760,  14,  60, 118, 220, 357, 284, 121, 583, 175,  83, 783,\n",
       "          271, 132, 458, 422, 658, 305, 291, 160, 410, 793, 506, 544, 120,\n",
       "          662, 442, 795, 687, 443, 413, 496,  21, 183, 122,  15, 355, 418,\n",
       "          477, 450, 699, 726, 575, 101, 538, 365, 806, 661, 302,  25, 791,\n",
       "          756, 683, 346, 579, 273, 461, 168, 774, 690,  11, 376, 720]),\n",
       "   array([392, 762,  39, 429, 543, 299, 765, 534, 298, 479, 408, 319,  79,\n",
       "          668, 592, 463,   7, 648, 237, 801, 125, 142, 219, 322,  80, 440,\n",
       "           95, 348, 649, 409, 501, 733, 171, 651, 293, 234, 181, 205, 566,\n",
       "          113, 133])))]"
      ]
     },
     "execution_count": 25,
     "metadata": {},
     "output_type": "execute_result"
    }
   ],
   "source": [
    "# num_shuffle: type of our training configuration \n",
    "# Create different training dataset to compare after training\n",
    "dlc.create_training_model_comparison(config_path, num_shuffles=2, net_types=['resnet_101', 'resnet_152'], augmenter_types=['imgaug', 'default'])\n",
    "\n",
    "dlc.create_training_dataset(config_path, net_type='resnet_101', augmenter_type='imgaug')\n"
   ]
  },
  {
   "cell_type": "markdown",
   "id": "infinite-battery",
   "metadata": {},
   "source": [
    "## Start training"
   ]
  },
  {
   "cell_type": "code",
   "execution_count": 5,
   "id": "warming-columbia",
   "metadata": {},
   "outputs": [
    {
     "name": "stderr",
     "output_type": "stream",
     "text": [
      "Config:\n",
      "{'all_joints': [[0],\n",
      "                [1],\n",
      "                [2],\n",
      "                [3],\n",
      "                [4],\n",
      "                [5],\n",
      "                [6],\n",
      "                [7],\n",
      "                [8],\n",
      "                [9],\n",
      "                [10],\n",
      "                [11],\n",
      "                [12],\n",
      "                [13],\n",
      "                [14],\n",
      "                [15],\n",
      "                [16],\n",
      "                [17],\n",
      "                [18]],\n",
      " 'all_joints_names': ['ankleleft',\n",
      "                      'kneeleft',\n",
      "                      'hipleft',\n",
      "                      'shoulderleft',\n",
      "                      'elbowleft',\n",
      "                      'wristleft',\n",
      "                      'forehead',\n",
      "                      'chin',\n",
      "                      'ankleright',\n",
      "                      'kneeright',\n",
      "                      'hipright',\n",
      "                      'shoulderright',\n",
      "                      'elbowright',\n",
      "                      'wristright',\n",
      "                      'upperback',\n",
      "                      'middleback',\n",
      "                      'lowerback',\n",
      "                      'toesright',\n",
      "                      'toesleft'],\n",
      " 'batch_size': 4,\n",
      " 'crop_pad': 0,\n",
      " 'cropratio': 0.25,\n",
      " 'dataset': 'training-datasets\\\\iteration-0\\\\UnaugmentedDataSet_DeepWorkOutJan31\\\\DeepWorkOut_Carl '\n",
      "            '& Louis Enslin95shuffle4.mat',\n",
      " 'dataset_type': 'imgaug',\n",
      " 'deterministic': False,\n",
      " 'display_iters': 1000,\n",
      " 'fg_fraction': 0.25,\n",
      " 'global_scale': 1.0,\n",
      " 'init_weights': 'C:\\\\Users\\\\ujtjf\\\\Anaconda3\\\\envs\\\\DLC-GPU\\\\lib\\\\site-packages\\\\deeplabcut\\\\pose_estimation_tensorflow\\\\models\\\\pretrained\\\\mpii-single-resnet-101',\n",
      " 'intermediate_supervision': False,\n",
      " 'intermediate_supervision_layer': 12,\n",
      " 'location_refinement': True,\n",
      " 'locref_huber_loss': True,\n",
      " 'locref_loss_weight': 0.05,\n",
      " 'locref_stdev': 7.2801,\n",
      " 'log_dir': 'log',\n",
      " 'max_input_size': 1500,\n",
      " 'mean_pixel': [123.68, 116.779, 103.939],\n",
      " 'metadataset': 'training-datasets\\\\iteration-0\\\\UnaugmentedDataSet_DeepWorkOutJan31\\\\Documentation_data-DeepWorkOut_95shuffle4.pickle',\n",
      " 'min_input_size': 100,\n",
      " 'mirror': False,\n",
      " 'multi_step': [[0.02, 10000],\n",
      "                [0.005, 430000],\n",
      "                [0.002, 730000],\n",
      "                [0.001, 1030000]],\n",
      " 'net_type': 'resnet_101',\n",
      " 'num_joints': 19,\n",
      " 'optimizer': 'sgd',\n",
      " 'pairwise_huber_loss': False,\n",
      " 'pairwise_predict': False,\n",
      " 'partaffinityfield_predict': False,\n",
      " 'pos_dist_thresh': 17,\n",
      " 'project_path': 'C:\\\\Users\\\\ujtjf\\\\Desktop\\\\LAMA_Projekt\\\\Deeplabcut_projekt\\\\DeepWorkOut-Carl '\n",
      "                 '& Louis Enslin-2021-01-31',\n",
      " 'regularize': False,\n",
      " 'rotation': 25,\n",
      " 'rotratio': 0.4,\n",
      " 'save_iters': 50000,\n",
      " 'scale_jitter_lo': 0.5,\n",
      " 'scale_jitter_up': 1.25,\n",
      " 'scoremap_dir': 'test',\n",
      " 'shuffle': True,\n",
      " 'snapshot_prefix': 'C:\\\\Users\\\\ujtjf\\\\Desktop\\\\LAMA_Projekt\\\\Deeplabcut_projekt\\\\DeepWorkOut-Carl '\n",
      "                    '& Louis '\n",
      "                    'Enslin-2021-01-31\\\\dlc-models\\\\iteration-0\\\\DeepWorkOutJan31-trainset95shuffle4\\\\train\\\\snapshot',\n",
      " 'stride': 8.0,\n",
      " 'weigh_negatives': False,\n",
      " 'weigh_only_present_joints': False,\n",
      " 'weigh_part_predictions': False,\n",
      " 'weight_decay': 0.0001}\n"
     ]
    },
    {
     "name": "stdout",
     "output_type": "stream",
     "text": [
      "Selecting single-animal trainer\n",
      "Starting with imgaug pose-dataset loader (=default).\n",
      "Batch Size is 4\n",
      "Initializing ResNet\n",
      "Loading ImageNet-pretrained resnet_101\n",
      "Max_iters overwritten as 100000\n",
      "Training parameter:\n",
      "{'stride': 8.0, 'weigh_part_predictions': False, 'weigh_negatives': False, 'fg_fraction': 0.25, 'mean_pixel': [123.68, 116.779, 103.939], 'shuffle': True, 'snapshot_prefix': 'C:\\\\Users\\\\ujtjf\\\\Desktop\\\\LAMA_Projekt\\\\Deeplabcut_projekt\\\\DeepWorkOut-Carl & Louis Enslin-2021-01-31\\\\dlc-models\\\\iteration-0\\\\DeepWorkOutJan31-trainset95shuffle4\\\\train\\\\snapshot', 'log_dir': 'log', 'global_scale': 1.0, 'location_refinement': True, 'locref_stdev': 7.2801, 'locref_loss_weight': 0.05, 'locref_huber_loss': True, 'optimizer': 'sgd', 'intermediate_supervision': False, 'intermediate_supervision_layer': 12, 'regularize': False, 'weight_decay': 0.0001, 'crop_pad': 0, 'scoremap_dir': 'test', 'batch_size': 4, 'dataset_type': 'imgaug', 'deterministic': False, 'mirror': False, 'pairwise_huber_loss': False, 'weigh_only_present_joints': False, 'partaffinityfield_predict': False, 'pairwise_predict': False, 'all_joints': [[0], [1], [2], [3], [4], [5], [6], [7], [8], [9], [10], [11], [12], [13], [14], [15], [16], [17], [18]], 'all_joints_names': ['ankleleft', 'kneeleft', 'hipleft', 'shoulderleft', 'elbowleft', 'wristleft', 'forehead', 'chin', 'ankleright', 'kneeright', 'hipright', 'shoulderright', 'elbowright', 'wristright', 'upperback', 'middleback', 'lowerback', 'toesright', 'toesleft'], 'cropratio': 0.25, 'dataset': 'training-datasets\\\\iteration-0\\\\UnaugmentedDataSet_DeepWorkOutJan31\\\\DeepWorkOut_Carl & Louis Enslin95shuffle4.mat', 'display_iters': 1000, 'init_weights': 'C:\\\\Users\\\\ujtjf\\\\Anaconda3\\\\envs\\\\DLC-GPU\\\\lib\\\\site-packages\\\\deeplabcut\\\\pose_estimation_tensorflow\\\\models\\\\pretrained\\\\mpii-single-resnet-101', 'max_input_size': 1500, 'metadataset': 'training-datasets\\\\iteration-0\\\\UnaugmentedDataSet_DeepWorkOutJan31\\\\Documentation_data-DeepWorkOut_95shuffle4.pickle', 'min_input_size': 100, 'multi_step': [[0.02, 10000], [0.005, 430000], [0.002, 730000], [0.001, 1030000]], 'net_type': 'resnet_101', 'num_joints': 19, 'pos_dist_thresh': 17, 'project_path': 'C:\\\\Users\\\\ujtjf\\\\Desktop\\\\LAMA_Projekt\\\\Deeplabcut_projekt\\\\DeepWorkOut-Carl & Louis Enslin-2021-01-31', 'rotation': 25, 'rotratio': 0.4, 'save_iters': 50000, 'scale_jitter_lo': 0.5, 'scale_jitter_up': 1.25, 'covering': True, 'elastic_transform': True, 'motion_blur': True, 'motion_blur_params': {'k': 7, 'angle': [-90, 90]}}\n",
      "Starting training....\n"
     ]
    },
    {
     "name": "stderr",
     "output_type": "stream",
     "text": [
      "iteration: 1000 loss: 0.0249 lr: 0.02\n",
      "iteration: 2000 loss: 0.0118 lr: 0.02\n",
      "iteration: 3000 loss: 0.0097 lr: 0.02\n",
      "iteration: 4000 loss: 0.0087 lr: 0.02\n",
      "iteration: 5000 loss: 0.0080 lr: 0.02\n",
      "iteration: 6000 loss: 0.0076 lr: 0.02\n",
      "iteration: 7000 loss: 0.0071 lr: 0.02\n",
      "iteration: 8000 loss: 0.0066 lr: 0.02\n",
      "iteration: 9000 loss: 0.0064 lr: 0.02\n",
      "iteration: 10000 loss: 0.0062 lr: 0.02\n",
      "iteration: 11000 loss: 0.0056 lr: 0.005\n",
      "iteration: 12000 loss: 0.0055 lr: 0.005\n",
      "iteration: 13000 loss: 0.0054 lr: 0.005\n",
      "iteration: 14000 loss: 0.0054 lr: 0.005\n",
      "iteration: 15000 loss: 0.0053 lr: 0.005\n",
      "iteration: 16000 loss: 0.0053 lr: 0.005\n",
      "iteration: 17000 loss: 0.0052 lr: 0.005\n",
      "iteration: 18000 loss: 0.0053 lr: 0.005\n",
      "iteration: 19000 loss: 0.0052 lr: 0.005\n",
      "iteration: 20000 loss: 0.0051 lr: 0.005\n",
      "iteration: 21000 loss: 0.0050 lr: 0.005\n",
      "iteration: 22000 loss: 0.0051 lr: 0.005\n",
      "iteration: 23000 loss: 0.0050 lr: 0.005\n",
      "iteration: 24000 loss: 0.0050 lr: 0.005\n",
      "iteration: 25000 loss: 0.0049 lr: 0.005\n",
      "iteration: 26000 loss: 0.0049 lr: 0.005\n",
      "iteration: 27000 loss: 0.0049 lr: 0.005\n",
      "iteration: 28000 loss: 0.0049 lr: 0.005\n",
      "iteration: 29000 loss: 0.0048 lr: 0.005\n",
      "iteration: 30000 loss: 0.0048 lr: 0.005\n",
      "iteration: 31000 loss: 0.0047 lr: 0.005\n",
      "iteration: 32000 loss: 0.0048 lr: 0.005\n",
      "iteration: 33000 loss: 0.0047 lr: 0.005\n",
      "iteration: 34000 loss: 0.0047 lr: 0.005\n",
      "iteration: 35000 loss: 0.0047 lr: 0.005\n",
      "iteration: 36000 loss: 0.0046 lr: 0.005\n",
      "iteration: 37000 loss: 0.0047 lr: 0.005\n",
      "iteration: 38000 loss: 0.0047 lr: 0.005\n",
      "iteration: 39000 loss: 0.0047 lr: 0.005\n",
      "iteration: 40000 loss: 0.0046 lr: 0.005\n",
      "iteration: 41000 loss: 0.0046 lr: 0.005\n",
      "iteration: 42000 loss: 0.0045 lr: 0.005\n",
      "iteration: 43000 loss: 0.0045 lr: 0.005\n",
      "iteration: 44000 loss: 0.0045 lr: 0.005\n",
      "iteration: 45000 loss: 0.0044 lr: 0.005\n",
      "iteration: 46000 loss: 0.0044 lr: 0.005\n",
      "iteration: 47000 loss: 0.0044 lr: 0.005\n",
      "iteration: 48000 loss: 0.0043 lr: 0.005\n",
      "iteration: 49000 loss: 0.0044 lr: 0.005\n",
      "iteration: 50000 loss: 0.0044 lr: 0.005\n",
      "iteration: 51000 loss: 0.0043 lr: 0.005\n",
      "iteration: 52000 loss: 0.0043 lr: 0.005\n",
      "iteration: 53000 loss: 0.0044 lr: 0.005\n",
      "iteration: 54000 loss: 0.0042 lr: 0.005\n",
      "iteration: 55000 loss: 0.0043 lr: 0.005\n",
      "iteration: 56000 loss: 0.0043 lr: 0.005\n",
      "iteration: 57000 loss: 0.0043 lr: 0.005\n",
      "iteration: 58000 loss: 0.0042 lr: 0.005\n",
      "iteration: 59000 loss: 0.0042 lr: 0.005\n",
      "iteration: 60000 loss: 0.0042 lr: 0.005\n",
      "iteration: 61000 loss: 0.0042 lr: 0.005\n",
      "iteration: 62000 loss: 0.0042 lr: 0.005\n",
      "iteration: 63000 loss: 0.0041 lr: 0.005\n",
      "iteration: 64000 loss: 0.0041 lr: 0.005\n",
      "iteration: 65000 loss: 0.0041 lr: 0.005\n",
      "iteration: 66000 loss: 0.0041 lr: 0.005\n",
      "iteration: 67000 loss: 0.0041 lr: 0.005\n",
      "iteration: 68000 loss: 0.0041 lr: 0.005\n",
      "iteration: 69000 loss: 0.0040 lr: 0.005\n",
      "iteration: 70000 loss: 0.0040 lr: 0.005\n",
      "iteration: 71000 loss: 0.0041 lr: 0.005\n",
      "iteration: 72000 loss: 0.0040 lr: 0.005\n",
      "iteration: 73000 loss: 0.0040 lr: 0.005\n",
      "iteration: 74000 loss: 0.0040 lr: 0.005\n",
      "iteration: 75000 loss: 0.0040 lr: 0.005\n",
      "iteration: 76000 loss: 0.0039 lr: 0.005\n",
      "iteration: 77000 loss: 0.0040 lr: 0.005\n",
      "iteration: 78000 loss: 0.0040 lr: 0.005\n",
      "iteration: 79000 loss: 0.0039 lr: 0.005\n",
      "iteration: 80000 loss: 0.0039 lr: 0.005\n",
      "iteration: 81000 loss: 0.0040 lr: 0.005\n",
      "iteration: 82000 loss: 0.0039 lr: 0.005\n",
      "iteration: 83000 loss: 0.0039 lr: 0.005\n",
      "iteration: 84000 loss: 0.0039 lr: 0.005\n",
      "iteration: 85000 loss: 0.0039 lr: 0.005\n",
      "iteration: 86000 loss: 0.0039 lr: 0.005\n",
      "iteration: 87000 loss: 0.0039 lr: 0.005\n",
      "iteration: 88000 loss: 0.0038 lr: 0.005\n",
      "iteration: 89000 loss: 0.0039 lr: 0.005\n",
      "iteration: 90000 loss: 0.0038 lr: 0.005\n",
      "iteration: 91000 loss: 0.0038 lr: 0.005\n",
      "iteration: 92000 loss: 0.0038 lr: 0.005\n",
      "iteration: 93000 loss: 0.0038 lr: 0.005\n",
      "iteration: 94000 loss: 0.0038 lr: 0.005\n",
      "iteration: 95000 loss: 0.0038 lr: 0.005\n",
      "iteration: 96000 loss: 0.0038 lr: 0.005\n",
      "iteration: 97000 loss: 0.0038 lr: 0.005\n",
      "iteration: 98000 loss: 0.0037 lr: 0.005\n",
      "iteration: 99000 loss: 0.0038 lr: 0.005\n",
      "iteration: 100000 loss: 0.0037 lr: 0.005\n"
     ]
    },
    {
     "name": "stdout",
     "output_type": "stream",
     "text": [
      "The network is now trained and ready to evaluate. Use the function 'evaluate_network' to evaluate the network.\n"
     ]
    },
    {
     "name": "stderr",
     "output_type": "stream",
     "text": [
      "Exception in thread Thread-6:\n",
      "Traceback (most recent call last):\n",
      "  File \"C:\\Users\\ujtjf\\Anaconda3\\envs\\Clone DLC\\lib\\site-packages\\tensorflow\\python\\client\\session.py\", line 1334, in _do_call\n",
      "    return fn(*args)\n",
      "  File \"C:\\Users\\ujtjf\\Anaconda3\\envs\\Clone DLC\\lib\\site-packages\\tensorflow\\python\\client\\session.py\", line 1319, in _run_fn\n",
      "    options, feed_dict, fetch_list, target_list, run_metadata)\n",
      "  File \"C:\\Users\\ujtjf\\Anaconda3\\envs\\Clone DLC\\lib\\site-packages\\tensorflow\\python\\client\\session.py\", line 1407, in _call_tf_sessionrun\n",
      "    run_metadata)\n",
      "tensorflow.python.framework.errors_impl.CancelledError: Enqueue operation was cancelled\n",
      "\t [[{{node fifo_queue_enqueue}}]]\n",
      "\n",
      "During handling of the above exception, another exception occurred:\n",
      "\n",
      "Traceback (most recent call last):\n",
      "  File \"C:\\Users\\ujtjf\\Anaconda3\\envs\\Clone DLC\\lib\\threading.py\", line 926, in _bootstrap_inner\n",
      "    self.run()\n",
      "  File \"C:\\Users\\ujtjf\\Anaconda3\\envs\\Clone DLC\\lib\\threading.py\", line 870, in run\n",
      "    self._target(*self._args, **self._kwargs)\n",
      "  File \"C:\\Users\\ujtjf\\Anaconda3\\envs\\Clone DLC\\lib\\site-packages\\deeplabcut\\pose_estimation_tensorflow\\train.py\", line 91, in load_and_enqueue\n",
      "    sess.run(enqueue_op, feed_dict=food)\n",
      "  File \"C:\\Users\\ujtjf\\Anaconda3\\envs\\Clone DLC\\lib\\site-packages\\tensorflow\\python\\client\\session.py\", line 929, in run\n",
      "    run_metadata_ptr)\n",
      "  File \"C:\\Users\\ujtjf\\Anaconda3\\envs\\Clone DLC\\lib\\site-packages\\tensorflow\\python\\client\\session.py\", line 1152, in _run\n",
      "    feed_dict_tensor, options, run_metadata)\n",
      "  File \"C:\\Users\\ujtjf\\Anaconda3\\envs\\Clone DLC\\lib\\site-packages\\tensorflow\\python\\client\\session.py\", line 1328, in _do_run\n",
      "    run_metadata)\n",
      "  File \"C:\\Users\\ujtjf\\Anaconda3\\envs\\Clone DLC\\lib\\site-packages\\tensorflow\\python\\client\\session.py\", line 1348, in _do_call\n",
      "    raise type(e)(node_def, op, message)\n",
      "tensorflow.python.framework.errors_impl.CancelledError: Enqueue operation was cancelled\n",
      "\t [[node fifo_queue_enqueue (defined at C:\\Users\\ujtjf\\Anaconda3\\envs\\Clone DLC\\lib\\site-packages\\deeplabcut\\pose_estimation_tensorflow\\train.py:77) ]]\n",
      "\n",
      "Caused by op 'fifo_queue_enqueue', defined at:\n",
      "  File \"C:\\Users\\ujtjf\\Anaconda3\\envs\\Clone DLC\\lib\\runpy.py\", line 193, in _run_module_as_main\n",
      "    \"__main__\", mod_spec)\n",
      "  File \"C:\\Users\\ujtjf\\Anaconda3\\envs\\Clone DLC\\lib\\runpy.py\", line 85, in _run_code\n",
      "    exec(code, run_globals)\n",
      "  File \"C:\\Users\\ujtjf\\Anaconda3\\envs\\Clone DLC\\lib\\site-packages\\ipykernel_launcher.py\", line 16, in <module>\n",
      "    app.launch_new_instance()\n",
      "  File \"C:\\Users\\ujtjf\\Anaconda3\\envs\\Clone DLC\\lib\\site-packages\\traitlets\\config\\application.py\", line 845, in launch_instance\n",
      "    app.start()\n",
      "  File \"C:\\Users\\ujtjf\\Anaconda3\\envs\\Clone DLC\\lib\\site-packages\\ipykernel\\kernelapp.py\", line 612, in start\n",
      "    self.io_loop.start()\n",
      "  File \"C:\\Users\\ujtjf\\Anaconda3\\envs\\Clone DLC\\lib\\site-packages\\tornado\\platform\\asyncio.py\", line 199, in start\n",
      "    self.asyncio_loop.run_forever()\n",
      "  File \"C:\\Users\\ujtjf\\Anaconda3\\envs\\Clone DLC\\lib\\asyncio\\base_events.py\", line 541, in run_forever\n",
      "    self._run_once()\n",
      "  File \"C:\\Users\\ujtjf\\Anaconda3\\envs\\Clone DLC\\lib\\asyncio\\base_events.py\", line 1786, in _run_once\n",
      "    handle._run()\n",
      "  File \"C:\\Users\\ujtjf\\Anaconda3\\envs\\Clone DLC\\lib\\asyncio\\events.py\", line 88, in _run\n",
      "    self._context.run(self._callback, *self._args)\n",
      "  File \"C:\\Users\\ujtjf\\Anaconda3\\envs\\Clone DLC\\lib\\site-packages\\tornado\\ioloop.py\", line 688, in <lambda>\n",
      "    lambda f: self._run_callback(functools.partial(callback, future))\n",
      "  File \"C:\\Users\\ujtjf\\Anaconda3\\envs\\Clone DLC\\lib\\site-packages\\tornado\\ioloop.py\", line 741, in _run_callback\n",
      "    ret = callback()\n",
      "  File \"C:\\Users\\ujtjf\\Anaconda3\\envs\\Clone DLC\\lib\\site-packages\\tornado\\gen.py\", line 814, in inner\n",
      "    self.ctx_run(self.run)\n",
      "  File \"C:\\Users\\ujtjf\\Anaconda3\\envs\\Clone DLC\\lib\\site-packages\\tornado\\gen.py\", line 775, in run\n",
      "    yielded = self.gen.send(value)\n",
      "  File \"C:\\Users\\ujtjf\\Anaconda3\\envs\\Clone DLC\\lib\\site-packages\\ipykernel\\kernelbase.py\", line 365, in process_one\n",
      "    yield gen.maybe_future(dispatch(*args))\n",
      "  File \"C:\\Users\\ujtjf\\Anaconda3\\envs\\Clone DLC\\lib\\site-packages\\tornado\\gen.py\", line 234, in wrapper\n",
      "    yielded = ctx_run(next, result)\n",
      "  File \"C:\\Users\\ujtjf\\Anaconda3\\envs\\Clone DLC\\lib\\site-packages\\ipykernel\\kernelbase.py\", line 268, in dispatch_shell\n",
      "    yield gen.maybe_future(handler(stream, idents, msg))\n",
      "  File \"C:\\Users\\ujtjf\\Anaconda3\\envs\\Clone DLC\\lib\\site-packages\\tornado\\gen.py\", line 234, in wrapper\n",
      "    yielded = ctx_run(next, result)\n",
      "  File \"C:\\Users\\ujtjf\\Anaconda3\\envs\\Clone DLC\\lib\\site-packages\\ipykernel\\kernelbase.py\", line 545, in execute_request\n",
      "    user_expressions, allow_stdin,\n",
      "  File \"C:\\Users\\ujtjf\\Anaconda3\\envs\\Clone DLC\\lib\\site-packages\\tornado\\gen.py\", line 234, in wrapper\n",
      "    yielded = ctx_run(next, result)\n",
      "  File \"C:\\Users\\ujtjf\\Anaconda3\\envs\\Clone DLC\\lib\\site-packages\\ipykernel\\ipkernel.py\", line 306, in do_execute\n",
      "    res = shell.run_cell(code, store_history=store_history, silent=silent)\n",
      "  File \"C:\\Users\\ujtjf\\Anaconda3\\envs\\Clone DLC\\lib\\site-packages\\ipykernel\\zmqshell.py\", line 536, in run_cell\n",
      "    return super(ZMQInteractiveShell, self).run_cell(*args, **kwargs)\n",
      "  File \"C:\\Users\\ujtjf\\Anaconda3\\envs\\Clone DLC\\lib\\site-packages\\IPython\\core\\interactiveshell.py\", line 2878, in run_cell\n",
      "    raw_cell, store_history, silent, shell_futures)\n",
      "  File \"C:\\Users\\ujtjf\\Anaconda3\\envs\\Clone DLC\\lib\\site-packages\\IPython\\core\\interactiveshell.py\", line 2923, in _run_cell\n",
      "    return runner(coro)\n",
      "  File \"C:\\Users\\ujtjf\\Anaconda3\\envs\\Clone DLC\\lib\\site-packages\\IPython\\core\\async_helpers.py\", line 68, in _pseudo_sync_runner\n",
      "    coro.send(None)\n",
      "  File \"C:\\Users\\ujtjf\\Anaconda3\\envs\\Clone DLC\\lib\\site-packages\\IPython\\core\\interactiveshell.py\", line 3147, in run_cell_async\n",
      "    interactivity=interactivity, compiler=compiler, result=result)\n",
      "  File \"C:\\Users\\ujtjf\\Anaconda3\\envs\\Clone DLC\\lib\\site-packages\\IPython\\core\\interactiveshell.py\", line 3338, in run_ast_nodes\n",
      "    if (await self.run_code(code, result,  async_=asy)):\n",
      "  File \"C:\\Users\\ujtjf\\Anaconda3\\envs\\Clone DLC\\lib\\site-packages\\IPython\\core\\interactiveshell.py\", line 3418, in run_code\n",
      "    exec(code_obj, self.user_global_ns, self.user_ns)\n",
      "  File \"<ipython-input-5-e4fd8f19987d>\", line 1, in <module>\n",
      "    dlc.train_network(config_path, maxiters=100000, shuffle=4)\n",
      "  File \"C:\\Users\\ujtjf\\Anaconda3\\envs\\Clone DLC\\lib\\site-packages\\deeplabcut\\pose_estimation_tensorflow\\training.py\", line 189, in train_network\n",
      "    allow_growth=allow_growth,\n",
      "  File \"C:\\Users\\ujtjf\\Anaconda3\\envs\\Clone DLC\\lib\\site-packages\\deeplabcut\\pose_estimation_tensorflow\\train.py\", line 172, in train\n",
      "    batch, enqueue_op, placeholders = setup_preloading(batch_spec)\n",
      "  File \"C:\\Users\\ujtjf\\Anaconda3\\envs\\Clone DLC\\lib\\site-packages\\deeplabcut\\pose_estimation_tensorflow\\train.py\", line 77, in setup_preloading\n",
      "    enqueue_op = q.enqueue(placeholders_list)\n",
      "  File \"C:\\Users\\ujtjf\\Anaconda3\\envs\\Clone DLC\\lib\\site-packages\\tensorflow\\python\\ops\\data_flow_ops.py\", line 345, in enqueue\n",
      "    self._queue_ref, vals, name=scope)\n",
      "  File \"C:\\Users\\ujtjf\\Anaconda3\\envs\\Clone DLC\\lib\\site-packages\\tensorflow\\python\\ops\\gen_data_flow_ops.py\", line 4158, in queue_enqueue_v2\n",
      "    timeout_ms=timeout_ms, name=name)\n",
      "  File \"C:\\Users\\ujtjf\\Anaconda3\\envs\\Clone DLC\\lib\\site-packages\\tensorflow\\python\\framework\\op_def_library.py\", line 788, in _apply_op_helper\n",
      "    op_def=op_def)\n",
      "  File \"C:\\Users\\ujtjf\\Anaconda3\\envs\\Clone DLC\\lib\\site-packages\\tensorflow\\python\\util\\deprecation.py\", line 507, in new_func\n",
      "    return func(*args, **kwargs)\n",
      "  File \"C:\\Users\\ujtjf\\Anaconda3\\envs\\Clone DLC\\lib\\site-packages\\tensorflow\\python\\framework\\ops.py\", line 3300, in create_op\n",
      "    op_def=op_def)\n",
      "  File \"C:\\Users\\ujtjf\\Anaconda3\\envs\\Clone DLC\\lib\\site-packages\\tensorflow\\python\\framework\\ops.py\", line 1801, in __init__\n",
      "    self._traceback = tf_stack.extract_stack()\n",
      "\n",
      "CancelledError (see above for traceback): Enqueue operation was cancelled\n",
      "\t [[node fifo_queue_enqueue (defined at C:\\Users\\ujtjf\\Anaconda3\\envs\\Clone DLC\\lib\\site-packages\\deeplabcut\\pose_estimation_tensorflow\\train.py:77) ]]\n",
      "\n",
      "\n"
     ]
    }
   ],
   "source": [
    "dlc.train_network(config_path, maxiters=100000, shuffle=4)"
   ]
  },
  {
   "cell_type": "markdown",
   "id": "familiar-lexington",
   "metadata": {},
   "source": [
    "## Start evaluating"
   ]
  },
  {
   "cell_type": "markdown",
   "id": "august-issue",
   "metadata": {},
   "source": [
    "After training, we evaluated our model using the train/test loss and the pixel error. We achieved a loss of 0.00308 and a test pixel error of 2.37. "
   ]
  },
  {
   "cell_type": "code",
   "execution_count": 8,
   "id": "imported-grill",
   "metadata": {
    "scrolled": true
   },
   "outputs": [
    {
     "name": "stderr",
     "output_type": "stream",
     "text": [
      "Config:\n",
      "{'all_joints': [[0],\n",
      "                [1],\n",
      "                [2],\n",
      "                [3],\n",
      "                [4],\n",
      "                [5],\n",
      "                [6],\n",
      "                [7],\n",
      "                [8],\n",
      "                [9],\n",
      "                [10],\n",
      "                [11],\n",
      "                [12],\n",
      "                [13],\n",
      "                [14],\n",
      "                [15],\n",
      "                [16],\n",
      "                [17],\n",
      "                [18]],\n",
      " 'all_joints_names': ['ankleleft',\n",
      "                      'kneeleft',\n",
      "                      'hipleft',\n",
      "                      'shoulderleft',\n",
      "                      'elbowleft',\n",
      "                      'wristleft',\n",
      "                      'forehead',\n",
      "                      'chin',\n",
      "                      'ankleright',\n",
      "                      'kneeright',\n",
      "                      'hipright',\n",
      "                      'shoulderright',\n",
      "                      'elbowright',\n",
      "                      'wristright',\n",
      "                      'upperback',\n",
      "                      'middleback',\n",
      "                      'lowerback',\n",
      "                      'toesright',\n",
      "                      'toesleft'],\n",
      " 'batch_size': 1,\n",
      " 'crop_pad': 0,\n",
      " 'dataset': 'training-datasets\\\\iteration-0\\\\UnaugmentedDataSet_DeepWorkOutJan31\\\\DeepWorkOut_Carl '\n",
      "            '& Louis Enslin95shuffle6.mat',\n",
      " 'dataset_type': 'imgaug',\n",
      " 'deterministic': False,\n",
      " 'fg_fraction': 0.25,\n",
      " 'global_scale': 1.0,\n",
      " 'init_weights': 'C:\\\\Users\\\\ujtjf\\\\Anaconda3\\\\envs\\\\DLC-GPU\\\\lib\\\\site-packages\\\\deeplabcut\\\\pose_estimation_tensorflow\\\\models\\\\pretrained\\\\mpii-single-resnet-101',\n",
      " 'intermediate_supervision': False,\n",
      " 'intermediate_supervision_layer': 12,\n",
      " 'location_refinement': True,\n",
      " 'locref_huber_loss': True,\n",
      " 'locref_loss_weight': 1.0,\n",
      " 'locref_stdev': 7.2801,\n",
      " 'log_dir': 'log',\n",
      " 'mean_pixel': [123.68, 116.779, 103.939],\n",
      " 'mirror': False,\n",
      " 'net_type': 'resnet_101',\n",
      " 'num_joints': 19,\n",
      " 'optimizer': 'sgd',\n",
      " 'pairwise_huber_loss': True,\n",
      " 'pairwise_predict': False,\n",
      " 'partaffinityfield_predict': False,\n",
      " 'regularize': False,\n",
      " 'scoremap_dir': 'test',\n",
      " 'shuffle': True,\n",
      " 'snapshot_prefix': 'C:\\\\Users\\\\ujtjf\\\\Desktop\\\\LAMA_Projekt\\\\Deeplabcut_projekt\\\\DeepWorkOut-Carl '\n",
      "                    '& Louis '\n",
      "                    'Enslin-2021-01-31\\\\dlc-models\\\\iteration-0\\\\DeepWorkOutJan31-trainset95shuffle6\\\\test\\\\snapshot',\n",
      " 'stride': 8.0,\n",
      " 'weigh_negatives': False,\n",
      " 'weigh_only_present_joints': False,\n",
      " 'weigh_part_predictions': False,\n",
      " 'weight_decay': 0.0001}\n",
      "  0%|          | 0/399 [00:00<?, ?it/s]"
     ]
    },
    {
     "name": "stdout",
     "output_type": "stream",
     "text": [
      "C:\\Users\\ujtjf\\Desktop\\LAMA_Projekt\\Deeplabcut_projekt\\DeepWorkOut-Carl & Louis Enslin-2021-01-31/evaluation-results/  already exists!\n",
      "C:\\Users\\ujtjf\\Desktop\\LAMA_Projekt\\Deeplabcut_projekt\\DeepWorkOut-Carl & Louis Enslin-2021-01-31\\evaluation-results\\iteration-0\\DeepWorkOutJan31-trainset95shuffle6  already exists!\n",
      "Running  DLC_resnet101_DeepWorkOutJan31shuffle6_200000  with # of trainingiterations: 200000\n",
      "This net has already been evaluated!\n",
      "Plotting...(attention scale might be inconsistent in comparison to when data was analyzed; i.e. if you used rescale)\n",
      "C:\\Users\\ujtjf\\Desktop\\LAMA_Projekt\\Deeplabcut_projekt\\DeepWorkOut-Carl & Louis Enslin-2021-01-31\\evaluation-results\\iteration-0\\DeepWorkOutJan31-trainset95shuffle6\\LabeledImages_DLC_resnet101_DeepWorkOutJan31shuffle6_200000_snapshot-200000  already exists!\n"
     ]
    },
    {
     "name": "stderr",
     "output_type": "stream",
     "text": [
      "100%|██████████| 399/399 [01:21<00:00,  4.91it/s]\n"
     ]
    }
   ],
   "source": [
    "dlc.evaluate_network(config_path, plotting=True, Shuffles=[6])"
   ]
  },
  {
   "cell_type": "code",
   "execution_count": 1,
   "id": "widespread-guard",
   "metadata": {
    "scrolled": true
   },
   "outputs": [
    {
     "data": {
      "image/png": "[encoded data removed]",
      "text/plain": [
       "<Figure size 432x288 with 1 Axes>"
      ]
     },
     "metadata": {
      "needs_background": "light"
     },
     "output_type": "display_data"
    }
   ],
   "source": [
    "# Plot the loss of our different modells\n",
    "import pandas as pd\n",
    "import matplotlib.pyplot as plt\n",
    "filename1 = 'Deeplabcut_projekt/DeepWorkOut-Carl & Louis Enslin-2021-01-31/dlc-models/iteration-0/DeepWorkOutJan31-trainset95shuffle3/train/learning_stats.csv'\n",
    "filename2 = 'Deeplabcut_projekt/DeepWorkOut-Carl & Louis Enslin-2021-01-31/dlc-models/iteration-0/DeepWorkOutJan31-trainset95shuffle4/train/learning_stats.csv'\n",
    "\n",
    "fig, ax = plt.subplots()\n",
    "colnames = ['Iterations', 'loss', 'lr']\n",
    "data1 = pd.read_csv(filename1, names=colnames)\n",
    "data2 = pd.read_csv(filename2, names=colnames)\n",
    "\n",
    "ax.plot(data1['Iterations'], data1['loss'], label='0.005 0.02', color='red')\n",
    "ax.plot(data2['Iterations'], data2['loss'], label='0.02 0.005', color='blue')\n",
    "\n",
    "ax.set_xlabel('Iterations')\n",
    "ax.set_ylabel('Loss')\n",
    "ax.legend()\n",
    "plt.show()\n"
   ]
  },
  {
   "cell_type": "markdown",
   "id": "absent-correlation",
   "metadata": {},
   "source": [
    "## Start analyzing videos"
   ]
  },
  {
   "cell_type": "markdown",
   "id": "light-dublin",
   "metadata": {},
   "source": [
    "Now that we have a model, we can analyse different videos and then process them. After the analysis of each video we get a file with all the positions of the bodypositions (x, y) and the probability of correctness. These data are further processed in the next section. "
   ]
  },
  {
   "cell_type": "code",
   "execution_count": 15,
   "id": "backed-mitchell",
   "metadata": {},
   "outputs": [],
   "source": [
    "videofile_path = ['C:\\\\Users\\\\ujtjf\\\\Desktop\\\\LAMA_Projekt\\\\Testvideos']\n"
   ]
  },
  {
   "cell_type": "code",
   "execution_count": 16,
   "id": "quick-landscape",
   "metadata": {},
   "outputs": [
    {
     "name": "stdout",
     "output_type": "stream",
     "text": [
      "Using snapshot-100000 for model C:\\Users\\ujtjf\\Desktop\\LAMA_Projekt\\Deeplabcut_projekt\\DeepWorkOut-Carl & Louis Enslin-2021-01-31\\dlc-models\\iteration-0\\DeepWorkOutJan31-trainset95shuffle3\n",
      "Initializing ResNet\n"
     ]
    },
    {
     "name": "stderr",
     "output_type": "stream",
     "text": [
      "\r",
      "  0%|          | 0/596 [00:00<?, ?it/s]"
     ]
    },
    {
     "name": "stdout",
     "output_type": "stream",
     "text": [
      "Analyzing all the videos in the directory...\n",
      "Starting to analyze %  C:\\Users\\ujtjf\\Desktop\\LAMA_Projekt\\Testvideos\\Video_1.mov\n",
      "C:\\Users\\ujtjf\\Desktop\\LAMA_Projekt\\Testvideos  already exists!\n",
      "Loading  C:\\Users\\ujtjf\\Desktop\\LAMA_Projekt\\Testvideos\\Video_1.mov\n",
      "Duration of video [s]:  20.46 , recorded with  29.13 fps!\n",
      "Overall # of frames:  596  found with (before cropping) frame dimensions:  640 360\n",
      "Starting to extract posture\n"
     ]
    },
    {
     "name": "stderr",
     "output_type": "stream",
     "text": [
      "600it [00:10, 55.09it/s]                         "
     ]
    },
    {
     "name": "stdout",
     "output_type": "stream",
     "text": [
      "Detected frames:  596\n",
      "Saving results in C:\\Users\\ujtjf\\Desktop\\LAMA_Projekt\\Testvideos...\n",
      "The videos are analyzed. Now your research can truly start! \n",
      " You can create labeled videos with 'create_labeled_video'\n",
      "If the tracking is not satisfactory for some videos, consider expanding the training set. You can use the function 'extract_outlier_frames' to extract a few representative outlier frames.\n"
     ]
    },
    {
     "name": "stderr",
     "output_type": "stream",
     "text": [
      "\n"
     ]
    },
    {
     "data": {
      "text/plain": [
       "'DLC_resnet101_DeepWorkOutJan31shuffle3_100000'"
      ]
     },
     "execution_count": 16,
     "metadata": {},
     "output_type": "execute_result"
    }
   ],
   "source": [
    "dlc.analyze_videos(config_path, videofile_path, videotype='.mov', shuffle=3)\n"
   ]
  },
  {
   "cell_type": "markdown",
   "id": "grave-object",
   "metadata": {},
   "source": [
    "## Extract outlier frames"
   ]
  },
  {
   "cell_type": "markdown",
   "id": "streaming-signature",
   "metadata": {},
   "source": [
    "Since the points are not yet perfect, we have now searched the whole video for outliers and selected the corresponding frames. We can correct these frames and thus expand our training set with decisive and critical points. "
   ]
  },
  {
   "cell_type": "code",
   "execution_count": 17,
   "id": "boring-flight",
   "metadata": {},
   "outputs": [],
   "source": [
    "video_adress = ['C:\\\\Users\\\\ujtjf\\\\Desktop\\\\LAMA_Projekt\\\\Testvideos']\n",
    "dlc.extract_outlier_frames(config_path, video_adress, shuffle=3)\n"
   ]
  },
  {
   "cell_type": "code",
   "execution_count": 8,
   "id": "young-vacuum",
   "metadata": {},
   "outputs": [],
   "source": [
    "## Refine labels\n",
    "dlc.refine_labels(config_path)"
   ]
  },
  {
   "cell_type": "code",
   "execution_count": 22,
   "id": "statutory-yemen",
   "metadata": {},
   "outputs": [
    {
     "name": "stdout",
     "output_type": "stream",
     "text": [
      "Merged data sets and updated refinement iteration to 2.\n",
      "Now you can create a new training set for the expanded annotated images (use create_training_dataset).\n"
     ]
    }
   ],
   "source": [
    "dlc.merge_datasets(config_path)"
   ]
  },
  {
   "cell_type": "markdown",
   "id": "durable-briefing",
   "metadata": {},
   "source": [
    "## Create labeled video"
   ]
  },
  {
   "cell_type": "code",
   "execution_count": 18,
   "id": "robust-amplifier",
   "metadata": {},
   "outputs": [
    {
     "name": "stdout",
     "output_type": "stream",
     "text": [
      "Analyzing all the videos in the directory...\n"
     ]
    }
   ],
   "source": [
    "# labeled video is created\n",
    "dlc.create_labeled_video(config_path, video_adress, videotype='.mov', shuffle=3, draw_skeleton=True, trailpoints=4)"
   ]
  },
  {
   "cell_type": "code",
   "execution_count": null,
   "id": "smart-ministry",
   "metadata": {},
   "outputs": [],
   "source": [
    "\n"
   ]
  },
  {
   "cell_type": "code",
   "execution_count": null,
   "id": "promising-prompt",
   "metadata": {},
   "outputs": [],
   "source": []
  }
 ],
 "metadata": {
  "kernelspec": {
   "display_name": "Python [conda env:Clone DLC] *",
   "language": "python",
   "name": "conda-env-Clone_DLC-py"
  },
  "language_info": {
   "codemirror_mode": {
    "name": "ipython",
    "version": 3
   },
   "file_extension": ".py",
   "mimetype": "text/x-python",
   "name": "python",
   "nbconvert_exporter": "python",
   "pygments_lexer": "ipython3",
   "version": "3.7.9"
  }
 },
 "nbformat": 4,
 "nbformat_minor": 5
}
